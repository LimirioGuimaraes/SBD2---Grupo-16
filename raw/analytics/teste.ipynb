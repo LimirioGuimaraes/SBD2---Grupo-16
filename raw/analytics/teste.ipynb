{
 "cells": [
  {
   "cell_type": "code",
   "execution_count": 1,
   "id": "fc21b4db",
   "metadata": {},
   "outputs": [],
   "source": [
    "from pyspark.sql import SparkSession"
   ]
  },
  {
   "cell_type": "code",
   "execution_count": null,
   "id": "68fe9658",
   "metadata": {},
   "outputs": [],
   "source": [
    "# 1. Criando uma SparkSession\n",
    "spark = SparkSession.builder.appName(\"ExemploShapePySpark\").getOrCreate()"
   ]
  },
  {
   "cell_type": "code",
   "execution_count": null,
   "id": "bc2ba54b",
   "metadata": {},
   "outputs": [],
   "source": [
    "# 2. Ler o CSV (como no pandas.read_csv)\n",
    "df = spark.read.csv(\"/ncr_ride_bookings.csv\", header=True, inferSchema=True)"
   ]
  },
  {
   "cell_type": "code",
   "execution_count": null,
   "id": "f04323c7",
   "metadata": {},
   "outputs": [],
   "source": [
    "# 3. Calcular número de linhas e colunas\n",
    "num_linhas = df.count()\n",
    "num_colunas = len(df.columns)"
   ]
  },
  {
   "cell_type": "code",
   "execution_count": null,
   "id": "364bd5ca",
   "metadata": {},
   "outputs": [],
   "source": [
    "# 4. Imprimir o \"shape\"\n",
    "print(f\"Dimensão do dataset: ({num_linhas}, {num_colunas})\")"
   ]
  }
 ],
 "metadata": {
  "kernelspec": {
   "display_name": "Python 3",
   "language": "python",
   "name": "python3"
  },
  "language_info": {
   "codemirror_mode": {
    "name": "ipython",
    "version": 3
   },
   "file_extension": ".py",
   "mimetype": "text/x-python",
   "name": "python",
   "nbconvert_exporter": "python",
   "pygments_lexer": "ipython3",
   "version": "3.11.7"
  }
 },
 "nbformat": 4,
 "nbformat_minor": 5
}
