{
 "cells": [
  {
   "cell_type": "markdown",
   "id": "48159e75",
   "metadata": {},
   "source": [
    "# 📊 Análise Exploratória - Insights Iniciais\n",
    "\n",
    "### ✅ Objetivo\n",
    "Analisar a qualidade dos dados do dataset e identificar possíveis problemas para tratamento."
   ]
  },
  {
   "cell_type": "code",
   "execution_count": 1,
   "id": "fc21b4db",
   "metadata": {},
   "outputs": [],
   "source": [
    "from pyspark.sql import SparkSession\n",
    "from pyspark.sql.functions import col, sum, when, trim"
   ]
  },
  {
   "cell_type": "code",
   "execution_count": 2,
   "id": "68fe9658",
   "metadata": {},
   "outputs": [
    {
     "name": "stderr",
     "output_type": "stream",
     "text": [
      "WARNING: Using incubator modules: jdk.incubator.vector\n",
      "Using Spark's default log4j profile: org/apache/spark/log4j2-defaults.properties\n",
      "25/09/22 12:40:05 WARN Utils: Your hostname, codespaces-ef9f50, resolves to a loopback address: 127.0.0.1; using 10.0.11.209 instead (on interface eth0)\n",
      "25/09/22 12:40:05 WARN Utils: Set SPARK_LOCAL_IP if you need to bind to another address\n",
      "Using Spark's default log4j profile: org/apache/spark/log4j2-defaults.properties\n",
      "Setting default log level to \"WARN\".\n",
      "To adjust logging level use sc.setLogLevel(newLevel). For SparkR, use setLogLevel(newLevel).\n",
      "25/09/22 12:40:06 WARN NativeCodeLoader: Unable to load native-hadoop library for your platform... using builtin-java classes where applicable\n"
     ]
    }
   ],
   "source": [
    "# 1. Criando uma SparkSession\n",
    "spark = SparkSession.builder.appName(\"ExemploShapePySpark\").getOrCreate()"
   ]
  },
  {
   "cell_type": "code",
   "execution_count": 3,
   "id": "bc2ba54b",
   "metadata": {},
   "outputs": [
    {
     "name": "stderr",
     "output_type": "stream",
     "text": [
      "                                                                                \r"
     ]
    }
   ],
   "source": [
    "# 2. Ler o CSV (como no pandas.read_csv)\n",
    "df = spark.read.csv(\"ncr_ride_bookings.csv\", header=True, inferSchema=True)"
   ]
  },
  {
   "cell_type": "code",
   "execution_count": 4,
   "id": "f04323c7",
   "metadata": {},
   "outputs": [],
   "source": [
    "# 3. Calcular número de linhas e colunas\n",
    "num_linhas = df.count()\n",
    "num_colunas = len(df.columns)"
   ]
  },
  {
   "cell_type": "code",
   "execution_count": 15,
   "id": "364bd5ca",
   "metadata": {},
   "outputs": [
    {
     "name": "stdout",
     "output_type": "stream",
     "text": [
      "Dimensão do dataset: (150000, 21)\n",
      "root\n",
      " |-- Date: date (nullable = true)\n",
      " |-- Time: timestamp (nullable = true)\n",
      " |-- Booking ID: string (nullable = true)\n",
      " |-- Booking Status: string (nullable = true)\n",
      " |-- Customer ID: string (nullable = true)\n",
      " |-- Vehicle Type: string (nullable = true)\n",
      " |-- Pickup Location: string (nullable = true)\n",
      " |-- Drop Location: string (nullable = true)\n",
      " |-- Avg VTAT: string (nullable = true)\n",
      " |-- Avg CTAT: string (nullable = true)\n",
      " |-- Cancelled Rides by Customer: string (nullable = true)\n",
      " |-- Reason for cancelling by Customer: string (nullable = true)\n",
      " |-- Cancelled Rides by Driver: string (nullable = true)\n",
      " |-- Driver Cancellation Reason: string (nullable = true)\n",
      " |-- Incomplete Rides: string (nullable = true)\n",
      " |-- Incomplete Rides Reason: string (nullable = true)\n",
      " |-- Booking Value: string (nullable = true)\n",
      " |-- Ride Distance: string (nullable = true)\n",
      " |-- Driver Ratings: string (nullable = true)\n",
      " |-- Customer Rating: string (nullable = true)\n",
      " |-- Payment Method: string (nullable = true)\n",
      "\n"
     ]
    },
    {
     "name": "stderr",
     "output_type": "stream",
     "text": [
      "                                                                                \r"
     ]
    },
    {
     "name": "stdout",
     "output_type": "stream",
     "text": [
      "+-------+----------------+--------------------+----------------+------------+---------------+-------------+-----------------+-----------------+---------------------------+---------------------------------+-------------------------+--------------------------+----------------+-----------------------+------------------+------------------+-------------------+-------------------+--------------+\n",
      "|summary|      Booking ID|      Booking Status|     Customer ID|Vehicle Type|Pickup Location|Drop Location|         Avg VTAT|         Avg CTAT|Cancelled Rides by Customer|Reason for cancelling by Customer|Cancelled Rides by Driver|Driver Cancellation Reason|Incomplete Rides|Incomplete Rides Reason|     Booking Value|     Ride Distance|     Driver Ratings|    Customer Rating|Payment Method|\n",
      "+-------+----------------+--------------------+----------------+------------+---------------+-------------+-----------------+-----------------+---------------------------+---------------------------------+-------------------------+--------------------------+----------------+-----------------------+------------------+------------------+-------------------+-------------------+--------------+\n",
      "|  count|          150000|              150000|          150000|      150000|         150000|       150000|           150000|           150000|                     150000|                           150000|                   150000|                    150000|          150000|                 150000|            150000|            150000|             150000|             150000|        150000|\n",
      "|   mean|            NULL|                NULL|            NULL|        NULL|           NULL|         NULL|8.456351971326173|29.14963627450973|                        1.0|                             NULL|                      1.0|                      NULL|             1.0|                   NULL|508.29591176470586| 24.63701166666674|  4.230992473118287|  4.404583870967731|          NULL|\n",
      "| stddev|            NULL|                NULL|            NULL|        NULL|           NULL|         NULL|3.773563826409561| 8.90257724437329|                        0.0|                             NULL|                      0.0|                      NULL|             0.0|                   NULL| 395.8057740380043|14.002138317198423|0.43687146865262555|0.43781873281871037|          NULL|\n",
      "|    min|\"\"\"CNR1000037\"\"\"|Cancelled by Cust...|\"\"\"CID1000119\"\"\"|        Auto|          AIIMS|        AIIMS|             10.0|             10.0|                          1|                AC is not working|                        1|      Customer related ...|               1|        Customer Demand|               100|               1.0|                3.0|                3.0|          Cash|\n",
      "|    max|\"\"\"CNR9999933\"\"\"|     No Driver Found|\"\"\"CID9999850\"\"\"|       eBike|    Yamuna Bank|  Yamuna Bank|             null|             null|                       null|                             null|                     null|                      null|            null|                   null|              null|              null|               null|               null|          null|\n",
      "+-------+----------------+--------------------+----------------+------------+---------------+-------------+-----------------+-----------------+---------------------------+---------------------------------+-------------------------+--------------------------+----------------+-----------------------+------------------+------------------+-------------------+-------------------+--------------+\n",
      "\n"
     ]
    },
    {
     "name": "stderr",
     "output_type": "stream",
     "text": [
      "                                                                                \r"
     ]
    },
    {
     "name": "stdout",
     "output_type": "stream",
     "text": [
      "+----+----+----------+--------------+-----------+------------+---------------+-------------+--------+--------+---------------------------+---------------------------------+-------------------------+--------------------------+----------------+-----------------------+-------------+-------------+--------------+---------------+--------------+\n",
      "|Date|Time|Booking ID|Booking Status|Customer ID|Vehicle Type|Pickup Location|Drop Location|Avg VTAT|Avg CTAT|Cancelled Rides by Customer|Reason for cancelling by Customer|Cancelled Rides by Driver|Driver Cancellation Reason|Incomplete Rides|Incomplete Rides Reason|Booking Value|Ride Distance|Driver Ratings|Customer Rating|Payment Method|\n",
      "+----+----+----------+--------------+-----------+------------+---------------+-------------+--------+--------+---------------------------+---------------------------------+-------------------------+--------------------------+----------------+-----------------------+-------------+-------------+--------------+---------------+--------------+\n",
      "|   0|   0|         0|             0|          0|           0|              0|            0|   10500|   48000|                     139500|                           139500|                   123000|                    123000|          141000|                 141000|        48000|        48000|         57000|          57000|         48000|\n",
      "+----+----+----------+--------------+-----------+------------+---------------+-------------+--------+--------+---------------------------+---------------------------------+-------------------------+--------------------------+----------------+-----------------------+-------------+-------------+--------------+---------------+--------------+\n",
      "\n",
      "Coluna | # Nulos | % Nulos\n",
      "Incomplete Rides | 141000 | 94.00%\n",
      "Incomplete Rides Reason | 141000 | 94.00%\n",
      "Cancelled Rides by Customer | 139500 | 93.00%\n",
      "Reason for cancelling by Customer | 139500 | 93.00%\n",
      "Cancelled Rides by Driver | 123000 | 82.00%\n",
      "Driver Cancellation Reason | 123000 | 82.00%\n",
      "Driver Ratings | 57000 | 38.00%\n",
      "Customer Rating | 57000 | 38.00%\n",
      "Avg CTAT | 48000 | 32.00%\n",
      "Booking Value | 48000 | 32.00%\n",
      "Ride Distance | 48000 | 32.00%\n",
      "Payment Method | 48000 | 32.00%\n",
      "Avg VTAT | 10500 | 7.00%\n",
      "Date | 0 | 0.00%\n",
      "Time | 0 | 0.00%\n",
      "Booking ID | 0 | 0.00%\n",
      "Booking Status | 0 | 0.00%\n",
      "Customer ID | 0 | 0.00%\n",
      "Vehicle Type | 0 | 0.00%\n",
      "Pickup Location | 0 | 0.00%\n",
      "Drop Location | 0 | 0.00%\n"
     ]
    },
    {
     "name": "stderr",
     "output_type": "stream",
     "text": [
      "                                                                                \r"
     ]
    }
   ],
   "source": [
    "# 4. Imprimir o \"shape\"\n",
    "print(f\"Dimensão do dataset: ({num_linhas}, {num_colunas})\")\n",
    "\n",
    "df.printSchema()\n",
    "\n",
    "df.describe().show()\n",
    "\n",
    "# 1. Total de linhas no DataFrame\n",
    "total = df.count()\n",
    "\n",
    "df.select([\n",
    "    sum(\n",
    "        when(\n",
    "            (trim(col(c)) == \"\") | \n",
    "            (trim(col(c)) == \"null\") | \n",
    "            (trim(col(c)) == \"NA\") | \n",
    "            (trim(col(c)) == \"NaN\"), \n",
    "            1\n",
    "        ).otherwise(0)\n",
    "    ).alias(c) for c in df.columns\n",
    "]).show()\n",
    "\n",
    "null_counts = df.select([\n",
    "    sum(\n",
    "        when(\n",
    "            (trim(col(c)) == \"\") | \n",
    "            (trim(col(c)) == \"null\") | \n",
    "            (trim(col(c)) == \"NA\") | \n",
    "            (trim(col(c)) == \"NaN\"), \n",
    "            1\n",
    "        ).otherwise(0)\n",
    "    ).alias(c) for c in df.columns\n",
    "]).collect()[0].asDict()\n",
    "\n",
    "# Cria lista com colunas, contagem e porcentagem\n",
    "cols_nulls = [(col_name, count, 100 * count / total) for col_name, count in null_counts.items()]\n",
    "\n",
    "# Ordena pelo número de nulos (decrescente)\n",
    "cols_nulls_sorted = sorted(cols_nulls, key=lambda x: x[1], reverse=True)\n",
    "\n",
    "# Mostrar resultado\n",
    "print(\"Coluna | # Nulos | % Nulos\")\n",
    "for col_name, count, pct in cols_nulls_sorted:\n",
    "    print(f\"{col_name} | {count} | {pct:.2f}%\")"
   ]
  }
 ],
 "metadata": {
  "kernelspec": {
   "display_name": "Python 3",
   "language": "python",
   "name": "python3"
  },
  "language_info": {
   "codemirror_mode": {
    "name": "ipython",
    "version": 3
   },
   "file_extension": ".py",
   "mimetype": "text/x-python",
   "name": "python",
   "nbconvert_exporter": "python",
   "pygments_lexer": "ipython3",
   "version": "3.12.1"
  }
 },
 "nbformat": 4,
 "nbformat_minor": 5
}
